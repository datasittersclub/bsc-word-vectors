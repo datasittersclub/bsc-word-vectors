{
 "cells": [
  {
   "cell_type": "markdown",
   "metadata": {},
   "source": [
    "*Need computational text analysis? Save time! Call:*\n",
    "\n",
    "# The Data-Sitters Club: Word Vector Exploration\n",
    "\n",
    "This Jupyter notebook includes code for exploring word vectors created using the full text of all the *Baby-Sitters Club* books (including all mysteries, super specials, etc.), with the following exceptions:\n",
    "\n",
    "* \\#39 Poor Mallory!\n",
    "* \\#79 Mary Anne Breaks the Rules\n",
    "* \\#81 Kristy and Mr. Mom\n",
    "* \\#83 Stacey vs. the BSC\n",
    "* \\#84 Dawn and the School Spirit War \n",
    "* \\#87 Stacey and the Bad Girls\n",
    "* \\#SS11 The Baby-sitters Remember\n",
    "\n",
    "For some background on what word vectors are and how they work, check out [Ryan Heuser's blog posts](http://ryanheuser.org/word-vectors) on the topic.\n",
    "\n",
    "These word vectors were created using the gensim package for word2vec, with a dimensonality of 200, downsampling set to 1e-3. The text was minimally (and un-carefully) pre-processed to remove commas, periods, and quotation marks. Once we have a full corpus, we'll publish a whole word vector creation notebook with all the pre-processing steps; this is just to play with in the meantime."
   ]
  },
  {
   "cell_type": "markdown",
   "metadata": {},
   "source": [
    "## Loading the word vectors\n",
    "Make sure that you have the `bscdemo.model` file in the same directory as this Jupyter notebook before running the code cell below to load the word vectors. You'll need to unzip *bscdemo.model.zip*, and move the resulting bscdemo.model into the same directory as the notebook.\n",
    "\n",
    "When you run the code cell below, you should see a set of messages appear below the cell, but if it works correctly, the last one should say `loaded bscdemo.model`."
   ]
  },
  {
   "cell_type": "code",
   "execution_count": 52,
   "metadata": {},
   "outputs": [
    {
     "name": "stderr",
     "output_type": "stream",
     "text": [
      "2019-10-02 16:37:33,660 : INFO : loading Word2Vec object from bscdemo.model\n",
      "2019-10-02 16:37:33,662 : WARNING : this function is deprecated, use smart_open.open instead\n",
      "2019-10-02 16:37:34,288 : INFO : loading wv recursively from bscdemo.model.wv.* with mmap=None\n",
      "2019-10-02 16:37:34,289 : INFO : setting ignored attribute vectors_norm to None\n",
      "2019-10-02 16:37:34,290 : INFO : loading vocabulary recursively from bscdemo.model.vocabulary.* with mmap=None\n",
      "2019-10-02 16:37:34,291 : INFO : loading trainables recursively from bscdemo.model.trainables.* with mmap=None\n",
      "2019-10-02 16:37:34,292 : INFO : setting ignored attribute cum_table to None\n",
      "2019-10-02 16:37:34,293 : INFO : loaded bscdemo.model\n"
     ]
    }
   ],
   "source": [
    "import gensim\n",
    "from gensim.models import KeyedVectors\n",
    "fname=\"bscdemo.model\"\n",
    "model = gensim.models.Word2Vec.load(fname)"
   ]
  },
  {
   "cell_type": "markdown",
   "metadata": {},
   "source": [
    "## Most similar terms\n",
    "\n",
    "Put any word in the corpus between the quotes below to show the most similar words. You can change the value of *topn* to show more, or fewer, words.\n",
    "\n",
    "Keep in mind that the text is all lower-case due to the pre-processing mentioned above. If you use any capital letters, you will get an error about the word being out of the vocabulary.\n",
    "\n",
    "Before generating the word vectors, we created bigrams and trigrams, which are indicated using an underscore (e.g. *mary_anne*). You can use bigrams as the source input \"word\" as well."
   ]
  },
  {
   "cell_type": "code",
   "execution_count": 54,
   "metadata": {
    "scrolled": true
   },
   "outputs": [
    {
     "name": "stderr",
     "output_type": "stream",
     "text": [
      "2019-10-02 16:44:36,441 : INFO : precomputing L2-norms of word weight vectors\n"
     ]
    },
    {
     "data": {
      "text/plain": [
       "[('stacey', 0.8087077140808105),\n",
       " ('claud', 0.783153772354126),\n",
       " ('abby', 0.7753046751022339),\n",
       " ('shannon', 0.7407026290893555),\n",
       " ('claudia', 0.7396952509880066),\n",
       " ('jessi', 0.7226901650428772),\n",
       " ('dawn', 0.7130868434906006),\n",
       " ('mallory', 0.6676522493362427),\n",
       " ('anna', 0.6610537767410278),\n",
       " ('mal', 0.6541677713394165),\n",
       " ('laine', 0.6357235312461853),\n",
       " ('kristy', 0.6286424994468689),\n",
       " ('charlotte', 0.6166675090789795),\n",
       " ('mai', 0.6085880398750305),\n",
       " ('sunny', 0.5989078283309937),\n",
       " ('logan', 0.597368061542511),\n",
       " ('her_mother', 0.5752037763595581),\n",
       " ('danielle', 0.5609983205795288),\n",
       " ('janine', 0.5580407381057739),\n",
       " ('cokie', 0.546456515789032),\n",
       " ('victoria', 0.5386191606521606),\n",
       " ('ashley', 0.536468505859375),\n",
       " ('tiffany', 0.5340152978897095),\n",
       " ('mimi', 0.5286753177642822),\n",
       " ('erica', 0.5284410715103149),\n",
       " ('maria', 0.5282090306282043),\n",
       " ('sharon', 0.5185384154319763),\n",
       " ('corrie', 0.5179238319396973),\n",
       " ('kil-bourne', 0.5078524947166443),\n",
       " ('stephie', 0.5047507882118225)]"
      ]
     },
     "execution_count": 54,
     "metadata": {},
     "output_type": "execute_result"
    }
   ],
   "source": [
    "w1 = \"mary_anne\"\n",
    "model.wv.most_similar (positive=w1,topn=30)"
   ]
  },
  {
   "cell_type": "code",
   "execution_count": 55,
   "metadata": {
    "scrolled": true
   },
   "outputs": [
    {
     "data": {
      "text/plain": [
       "[('our_treasurer', 0.9171445369720459),\n",
       " ('very_organized', 0.9148004055023193),\n",
       " ('kristy’s_best_friend', 0.9095317125320435),\n",
       " ('logan_bruno.', 0.907341718673706),\n",
       " ('outspoken', 0.9024476408958435),\n",
       " ('our_alternate_officer', 0.9010244607925415),\n",
       " ('boyfriend)', 0.8996708393096924),\n",
       " (\"mary_anne's_boyfriend._he's\", 0.8953051567077637),\n",
       " ('our_vice-president', 0.8948587775230408),\n",
       " ('easygoing', 0.8947371244430542),\n",
       " ('an_honorary', 0.8943606615066528),\n",
       " ('math_whiz.', 0.893000066280365),\n",
       " ('pretty_amazing', 0.8909308910369873),\n",
       " ('(short_for', 0.8876466155052185),\n",
       " ('mary_anne’s_boyfriend', 0.8872705698013306),\n",
       " ('very_shy', 0.8866142630577087),\n",
       " ('wealthy', 0.8837201595306396),\n",
       " ('super-organized', 0.8833213448524475),\n",
       " ('other_associate_member', 0.8830680847167969),\n",
       " ('other_associate', 0.8825700879096985),\n",
       " ('an_eighth-grader', 0.8818248510360718),\n",
       " ('stubborn.)', 0.8817631006240845),\n",
       " ('bsc_treasurer', 0.8802707195281982),\n",
       " ('claudia’s_best_friend', 0.8796262145042419),\n",
       " (\"kristy's_best_friend\", 0.8794188499450684),\n",
       " ('conscious.', 0.8775225281715393),\n",
       " ('an_amazing', 0.8761579990386963),\n",
       " ('independent', 0.8757776021957397),\n",
       " ('also_an_associate', 0.8752388954162598),\n",
       " ('jr.).', 0.8741673231124878)]"
      ]
     },
     "execution_count": 55,
     "metadata": {},
     "output_type": "execute_result"
    }
   ],
   "source": [
    "w1 = \"mary_anne's_boyfriend\"\n",
    "model.wv.most_similar (positive=w1,topn=30)"
   ]
  },
  {
   "cell_type": "markdown",
   "metadata": {},
   "source": [
    "## Most dissimilar terms\n",
    "Put any word in the corpus between the quotes below to show the most **dissimilar** words (i.e. those words that are used in the most dissimilar ways to the one you've given the model). You can change the value of *topn* to show more, or fewer, words.\n",
    "\n",
    "This isn't exactly that useful, other than to get a sense of how word vectors look at similarity (e.g. similarity in how a word is used semantically). Note that the *least-similar* words are at the bottom of the list."
   ]
  },
  {
   "cell_type": "code",
   "execution_count": 56,
   "metadata": {},
   "outputs": [
    {
     "data": {
      "text/plain": [
       "[('dissect', 0.3708440363407135),\n",
       " ('frederickson.', 0.31775641441345215),\n",
       " ('murdered.', 0.29090845584869385),\n",
       " ('idto', 0.27426737546920776),\n",
       " ('borrow.', 0.26972487568855286),\n",
       " ('headstrong', 0.2429170310497284),\n",
       " ('whaaat', 0.23247098922729492),\n",
       " ('scrimmage.', 0.2289089858531952),\n",
       " ('seen_before.', 0.22631953656673431),\n",
       " ('office)', 0.22106100618839264),\n",
       " ('photographing', 0.21874073147773743),\n",
       " ('-r', 0.1819244623184204),\n",
       " ('togav', 0.17867591977119446),\n",
       " ('ihllalfplftlfellrl', 0.17493721842765808),\n",
       " ('ten-fifteen.', 0.16839605569839478),\n",
       " ('song.)', 0.16290390491485596),\n",
       " ('difficult_decision', 0.15977539122104645),\n",
       " ('questionnaires', 0.15666872262954712),\n",
       " ('waaaaahhhhh', 0.15461422502994537),\n",
       " ('ednesday', 0.14903801679611206),\n",
       " ('flights.', 0.14564459025859833),\n",
       " ('seatmate', 0.14185652136802673),\n",
       " ('zzz', 0.1409178376197815),\n",
       " (\"'w\", 0.14078307151794434),\n",
       " ('bustled_around', 0.13906532526016235),\n",
       " ('126', 0.1358305960893631),\n",
       " ('79', 0.1333293467760086),\n",
       " ('yaay', 0.13225488364696503),\n",
       " ('s5fdce^', 0.13108161091804504),\n",
       " ('situated', 0.12795396149158478)]"
      ]
     },
     "execution_count": 56,
     "metadata": {},
     "output_type": "execute_result"
    }
   ],
   "source": [
    "w1 = \"kristy\"\n",
    "model.wv.most_similar (negative=w1,topn=30)"
   ]
  },
  {
   "cell_type": "markdown",
   "metadata": {},
   "source": [
    "## Analogies\n",
    "Without a larger corpus, the results of these analogies is very dissatisfying. The code below shows how to construct these analogies if you want to try them.\n",
    "\n",
    "The analogy code takes three words as input. To render the analogy Mallory:white::Jessi:??? (one might imagine \"black\" as a high probability answer), you would use the code below. Or, more abstractly, given *A:B::C:??*, the code would be: `positive=['A','C'],negative=['B']`"
   ]
  },
  {
   "cell_type": "code",
   "execution_count": 57,
   "metadata": {
    "scrolled": true
   },
   "outputs": [
    {
     "data": {
      "text/plain": [
       "[('mal', 0.8045724630355835),\n",
       " ('mai', 0.7904223799705505),\n",
       " ('claud', 0.7586207985877991),\n",
       " ('abby', 0.7536253929138184),\n",
       " ('stacey', 0.7345302104949951),\n",
       " ('kristy', 0.6963893175125122),\n",
       " ('claudia', 0.6906196475028992),\n",
       " ('shannon', 0.6899857521057129),\n",
       " ('charlotte', 0.6896331906318665),\n",
       " ('dawn', 0.6671716570854187),\n",
       " ('mary_anne', 0.6397250890731812),\n",
       " ('becca', 0.6200226545333862),\n",
       " ('jessi.', 0.6111703515052795),\n",
       " ('laine', 0.609732449054718),\n",
       " ('anna', 0.5751701593399048),\n",
       " ('mrs._pike', 0.5689882636070251),\n",
       " ('danielle', 0.5687900185585022),\n",
       " ('logan', 0.5599814653396606),\n",
       " ('everybody', 0.5526412725448608),\n",
       " ('dawn.', 0.5479577779769897),\n",
       " ('rest_of_us', 0.5391781330108643),\n",
       " ('mary_anne.', 0.5375857353210449),\n",
       " ('dr._johanssen', 0.5317626595497131),\n",
       " ('mrs._barrett', 0.5301694273948669),\n",
       " ('erica', 0.521365761756897),\n",
       " ('mrs._prezzioso', 0.519612193107605),\n",
       " ('others', 0.5174843072891235),\n",
       " ('everyone', 0.5153011679649353),\n",
       " ('corrie', 0.5135576725006104),\n",
       " ('ashley', 0.5115717053413391)]"
      ]
     },
     "execution_count": 57,
     "metadata": {},
     "output_type": "execute_result"
    }
   ],
   "source": [
    "# Mallory is to white what Jessi is to...\n",
    "model.wv.most_similar(positive=['mallory','jessi'],negative=['white'],topn=30)"
   ]
  },
  {
   "cell_type": "markdown",
   "metadata": {},
   "source": [
    "## Visualization\n",
    "The code below will generate two kinds of visualizations for the word vectors, by reducing the dimensionality of the vectors from 200 dimensions (or however many you specified when creating the vectors) down to 2.\n",
    "\n",
    "For this to work, you need the most recent version of *matplotlib*; as of March 2019, you may need to open a terminal and run `conda uninstall matplotlib` then `conda install matplotlib` to update to the latest version, depending on when you installed Anaconda.\n",
    "\n",
    "You also need to install the *sklearn* module. In the terminal: `pip install sklearn`."
   ]
  },
  {
   "cell_type": "code",
   "execution_count": 58,
   "metadata": {},
   "outputs": [],
   "source": [
    "import numpy as np\n",
    "import matplotlib.pyplot as plt\n",
    "from sklearn.manifold import TSNE"
   ]
  },
  {
   "cell_type": "markdown",
   "metadata": {},
   "source": [
    "### Visualizing similar words\n",
    "The code below will plot a given word, and the most similar words to it. You can increase or decrease the number of values displayed by changing the *topn* value for *close_words* (currently 30).\n",
    "\n",
    "You can input the word you want to use as the basis for similar words in the second code block below. Run the two code blocks below (after changing the second code block to include the word you want to visualize) to get the chart."
   ]
  },
  {
   "cell_type": "code",
   "execution_count": 58,
   "metadata": {},
   "outputs": [],
   "source": [
    "## visualizing subset of vectors\n",
    "import numpy as np\n",
    "import matplotlib.pyplot as plt\n",
    " \n",
    "from sklearn.manifold import TSNE\n",
    "def display_closestwords_tsnescatterplot(model, word):\n",
    "    \n",
    "    arr = np.empty((0,200), dtype='f')\n",
    "    word_labels = [word]\n",
    "\n",
    "    # get close words\n",
    "    close_words = model.wv.most_similar (word, topn=30)\n",
    "    \n",
    "    # add the vector for each of the closest words to the array\n",
    "    arr = np.append(arr, np.array([model.wv[word]]), axis=0)\n",
    "    for wrd_score in close_words:\n",
    "        wrd_vector = model.wv[wrd_score[0]]\n",
    "        word_labels.append(wrd_score[0])\n",
    "        arr = np.append(arr, np.array([wrd_vector]), axis=0)\n",
    "        \n",
    "    # find tsne coords for 2 dimensions\n",
    "    tsne = TSNE(n_components=2, random_state=0)\n",
    "    np.set_printoptions(suppress=True)\n",
    "    Y = tsne.fit_transform(arr)\n",
    "\n",
    "    x_coords = Y[:, 0]\n",
    "    y_coords = Y[:, 1]\n",
    "    # display scatter plot\n",
    "    \n",
    "    \n",
    "    \n",
    "    \n",
    "    plt.scatter(x_coords, y_coords)\n",
    "    \n",
    "\n",
    "\n",
    "    for label, x, y in zip(word_labels, x_coords, y_coords):\n",
    "        plt.annotate(label, xy=(x, y), xytext=(0, 0), textcoords='offset points')\n",
    "    plt.xlim(x_coords.min()+0.00005, x_coords.max()+0.00005)\n",
    "    plt.ylim(y_coords.min()+0.00005, y_coords.max()+0.00005)\n",
    "    plt.show()"
   ]
  },
  {
   "cell_type": "code",
   "execution_count": 59,
   "metadata": {},
   "outputs": [
    {
     "data": {
      "image/png": "[encoded data removed]",
      "text/plain": [
       "<matplotlib.figure.Figure at 0x107b2d240>"
      ]
     },
     "metadata": {
      "needs_background": "light"
     },
     "output_type": "display_data"
    }
   ],
   "source": [
    "#put your word between the single quotes here\n",
    "display_closestwords_tsnescatterplot(model,'kristy')"
   ]
  },
  {
   "cell_type": "markdown",
   "metadata": {},
   "source": [
    "## Acknowledgements\n",
    "\n",
    "Thanks to Aneesha Bakharia for [this Medium post on *Using TSNE to Plot a Subset of Similar Words from Word2Vec*](https://medium.com/@aneesha/using-tsne-to-plot-a-subset-of-similar-words-from-word2vec-bb8eeaea6229), where I found the code that the visualization section is based on."
   ]
  }
 ],
 "metadata": {
  "kernelspec": {
   "display_name": "Python 3",
   "language": "python",
   "name": "python3"
  },
  "language_info": {
   "codemirror_mode": {
    "name": "ipython",
    "version": 3
   },
   "file_extension": ".py",
   "mimetype": "text/x-python",
   "name": "python",
   "nbconvert_exporter": "python",
   "pygments_lexer": "ipython3",
   "version": "3.6.7"
  }
 },
 "nbformat": 4,
 "nbformat_minor": 2
}
